{
  "metadata": {
    "kernelspec": {
      "name": "python",
      "display_name": "Python (Pyodide)",
      "language": "python"
    },
    "language_info": {
      "codemirror_mode": {
        "name": "python",
        "version": 3
      },
      "file_extension": ".py",
      "mimetype": "text/x-python",
      "name": "python",
      "nbconvert_exporter": "python",
      "pygments_lexer": "ipython3",
      "version": "3.8"
    }
  },
  "nbformat_minor": 5,
  "nbformat": 4,
  "cells": [
    {
      "id": "979e57b2-4168-4816-a5f3-eb954d022933",
      "cell_type": "code",
      "source": "import numpy as np\nimport matplotlib.pyplot as plt\nfrom ipywidgets import interact, FloatSlider, Button, Output\nfrom IPython.display import display\n\n# --- PARÁMETROS INICIALES ---\nd0_init = 100.0\na_puma_init = 5.0\na_guanaco_init = 3.0\nt_max_puma_init = 30.0\n\nv_puma_max = 22.2   # 80 km/h\nv_guanaco_max = 18.0 # 64.8 km/h\n\n# --- FUNCIONES DE POSICIÓN ---\ndef calc_positions(d0, a_puma, a_guanaco, t_max):\n    t = np.linspace(0, t_max, 300)\n    t_puma_max_vel = min(v_puma_max / a_puma, t_max)\n    t_guanaco_max_vel = min(v_guanaco_max / a_guanaco, t_max)\n\n    x_puma = np.zeros_like(t)\n    x_guanaco = np.zeros_like(t)\n\n    for i, ti in enumerate(t):\n        if ti <= t_puma_max_vel:\n            x_puma[i] = 0.5 * a_puma * ti**2\n        else:\n            x_puma[i] = 0.5 * a_puma * t_puma_max_vel**2 + v_puma_max * (ti - t_puma_max_vel)\n\n        if ti <= t_guanaco_max_vel:\n            x_guanaco[i] = d0 + 0.5 * a_guanaco * ti**2\n        else:\n            x_guanaco[i] = d0 + 0.5 * a_guanaco * t_guanaco_max_vel**2 + v_guanaco_max * (ti - t_guanaco_max_vel)\n\n    return t, x_puma, x_guanaco\n\n# --- FUNCIÓN PARA DIBUJAR LA GRÁFICA ---\ndef plot_simulation(d0, a_puma, a_guanaco, t_max):\n    t, x_puma, x_guanaco = calc_positions(d0, a_puma, a_guanaco, t_max)\n    \n    fig, ax = plt.subplots(figsize=(12, 7))\n    \n    line_puma, = ax.plot(t, x_puma, 'b-', linewidth=3, label='Puma')\n    line_guanaco, = ax.plot(t, x_guanaco, 'r-', linewidth=3, label='Guanaco')\n    ax.axvline(t_max, color='red', linestyle='--', label=f'Límite puma ({t_max:.1f}s)')\n    \n    # Buscar encuentro\n    encuentro = None\n    for i in range(len(t)):\n        if x_puma[i] >= x_guanaco[i]:\n            encuentro = (t[i], x_puma[i])\n            break\n    \n    if encuentro:\n        point_enc, = ax.plot(encuentro[0], encuentro[1], 'go', markersize=10, label=f'¡Encuentro! t={encuentro[0]:.2f}s')\n    else:\n        point_enc, = ax.plot([], [], 'go', markersize=10, label='Guanaco escapa')\n    \n    ax.set_title('¿Puede un puma alcanzar a un guanaco? - SIMULADOR INTERACTIVO', fontsize=14)\n    ax.set_xlabel('Tiempo (s)')\n    ax.set_ylabel('Posición (m)')\n    ax.legend()\n    ax.grid(True, alpha=0.3)\n    \n    ymax = max(max(x_puma), max(x_guanaco)) * 1.1\n    ax.set_ylim(0, ymax if ymax > 0 else 500)\n    \n    plt.tight_layout()\n    plt.show()\n\n# --- WIDGETS ---\nd0_slider = FloatSlider(value=d0_init, min=50, max=200, step=1, description='Distancia inicial (m): ')\na_puma_slider = FloatSlider(value=a_puma_init, min=3, max=8, step=0.1, description='Acel. Puma (m/s²): ')\na_guanaco_slider = FloatSlider(value=a_guanaco_init, min=2, max=5, step=0.1, description='Acel. Guanaco (m/s²): ')\nt_max_slider = FloatSlider(value=t_max_puma_init, min=20, max=60, step=1, description='Tiempo máx. puma (s): ')\n\nbutton = Button(description='Actualizar gráfico', button_style='info')\nreset_button = Button(description='Reiniciar valores', button_style='warning')\n\noutput = Output()\n\ndef on_button_click(b):\n    with output:\n        output.clear_output(wait=True)\n        plot_simulation(\n            d0_slider.value,\n            a_puma_slider.value,\n            a_guanaco_slider.value,\n            t_max_slider.value\n        )\n\ndef on_reset_click(b):\n    d0_slider.value = d0_init\n    a_puma_slider.value = a_puma_init\n    a_guanaco_slider.value = a_guanaco_init\n    t_max_slider.value = t_max_puma_init\n\nbutton.on_click(on_button_click)\nreset_button.on_click(on_reset_click)\n\ndisplay(d0_slider, a_puma_slider, a_guanaco_slider, t_max_slider, button, reset_button, output)",
      "metadata": {
        "trusted": true
      },
      "outputs": [],
      "execution_count": null
    }
  ]
}